{
 "cells": [
  {
   "cell_type": "code",
   "execution_count": null,
   "metadata": {},
   "outputs": [
    {
     "ename": "ModuleNotFoundError",
     "evalue": "No module named 'flask'",
     "output_type": "error",
     "traceback": [
      "\u001b[31m---------------------------------------------------------------------------\u001b[39m",
      "\u001b[31mModuleNotFoundError\u001b[39m                       Traceback (most recent call last)",
      "\u001b[36mCell\u001b[39m\u001b[36m \u001b[39m\u001b[32mIn[1]\u001b[39m\u001b[32m, line 4\u001b[39m\n\u001b[32m      1\u001b[39m \u001b[38;5;28;01mimport\u001b[39;00m\u001b[38;5;250m \u001b[39m\u001b[34;01mwarnings\u001b[39;00m\n\u001b[32m      2\u001b[39m warnings.filterwarnings(\u001b[33m\"\u001b[39m\u001b[33mignore\u001b[39m\u001b[33m\"\u001b[39m)\n\u001b[32m----> \u001b[39m\u001b[32m4\u001b[39m \u001b[38;5;28;01mfrom\u001b[39;00m\u001b[38;5;250m \u001b[39m\u001b[34;01mflask\u001b[39;00m\u001b[38;5;250m \u001b[39m\u001b[38;5;28;01mimport\u001b[39;00m Flask, request, jsonify\n\u001b[32m      5\u001b[39m \u001b[38;5;28;01mfrom\u001b[39;00m\u001b[38;5;250m \u001b[39m\u001b[34;01mlangchain_groq\u001b[39;00m\u001b[38;5;250m \u001b[39m\u001b[38;5;28;01mimport\u001b[39;00m ChatGroq\n\u001b[32m      6\u001b[39m \u001b[38;5;28;01mfrom\u001b[39;00m\u001b[38;5;250m \u001b[39m\u001b[34;01mlangchain_community\u001b[39;00m\u001b[34;01m.\u001b[39;00m\u001b[34;01mutilities\u001b[39;00m\u001b[38;5;250m \u001b[39m\u001b[38;5;28;01mimport\u001b[39;00m SQLDatabase\n",
      "\u001b[31mModuleNotFoundError\u001b[39m: No module named 'flask'"
     ]
    }
   ],
   "source": [
    "import warnings\n",
    "# Suppress all warnings\n",
    "warnings.filterwarnings(\"ignore\")\n",
    "\n",
    "from typing import Annotated, Literal\n",
    "from langchain_core.messages import AIMessage\n",
    "from langchain_core.pydantic_v1 import BaseModel, Field\n",
    "from typing_extensions import TypedDict\n",
    "from langgraph.graph import END, StateGraph, START\n",
    "from langgraph.graph.message import AnyMessage, add_messages\n",
    "from typing import Any\n",
    "from langchain_core.messages import ToolMessage\n",
    "from langchain_core.runnables import RunnableLambda, RunnableWithFallbacks\n",
    "from langgraph.prebuilt import ToolNode\n",
    "from langchain_community.utilities import SQLDatabase"
   ]
  },
  {
   "cell_type": "code",
   "execution_count": 48,
   "metadata": {},
   "outputs": [
    {
     "name": "stdout",
     "output_type": "stream",
     "text": [
      "<langchain_community.utilities.sql_database.SQLDatabase object at 0x0000013DB348DBD0>\n"
     ]
    }
   ],
   "source": [
    "from langchain_community.utilities import SQLDatabase\n",
    "import os\n",
    "\n",
    "# Database credentials\n",
    "db_user = \"root\"\n",
    "db_password = \"\"\n",
    "db_host = \"127.0.0.1\"  # Match Laravel's setup\n",
    "db_name = \"automobiz\"\n",
    "\n",
    "# Use pymysql instead of mysqlconnector\n",
    "db_uri = f\"mysql+pymysql://{db_user}:{db_password}@{db_host}/{db_name}\"\n",
    "\n",
    "# Connect to the database\n",
    "db = SQLDatabase.from_uri(db_uri)\n",
    "print(db)"
   ]
  },
  {
   "cell_type": "code",
   "execution_count": 49,
   "metadata": {},
   "outputs": [
    {
     "data": {
      "text/plain": [
       "'mysql'"
      ]
     },
     "execution_count": 49,
     "metadata": {},
     "output_type": "execute_result"
    }
   ],
   "source": [
    "db.dialect"
   ]
  },
  {
   "cell_type": "code",
   "execution_count": 50,
   "metadata": {},
   "outputs": [
    {
     "data": {
      "text/plain": [
       "['autoservices',\n",
       " 'autoservices_rating',\n",
       " 'bookmark',\n",
       " 'carmodeltable',\n",
       " 'chat',\n",
       " 'cities',\n",
       " 'colortable',\n",
       " 'comments',\n",
       " 'comunity_userprofile',\n",
       " 'dislikes',\n",
       " 'failed_jobs',\n",
       " 'follow',\n",
       " 'forgetcode',\n",
       " 'jobapply',\n",
       " 'jobs',\n",
       " 'likes',\n",
       " 'make',\n",
       " 'messages',\n",
       " 'migrations',\n",
       " 'model_has_permissions',\n",
       " 'model_has_roles',\n",
       " 'notifications',\n",
       " 'parts_and_accessories',\n",
       " 'partsrating',\n",
       " 'password_resets',\n",
       " 'permissions',\n",
       " 'personal_access_tokens',\n",
       " 'personalexperience',\n",
       " 'personalinformation',\n",
       " 'role_has_permissions',\n",
       " 'roles',\n",
       " 'saveautos',\n",
       " 'servicescategory',\n",
       " 'transmission',\n",
       " 'userpost',\n",
       " 'users',\n",
       " 'vehicle_version',\n",
       " 'vehicleengine',\n",
       " 'vehicleinfo_bodytype',\n",
       " 'vehiclerating',\n",
       " 'vehicles',\n",
       " 'view']"
      ]
     },
     "execution_count": 50,
     "metadata": {},
     "output_type": "execute_result"
    }
   ],
   "source": [
    "db.get_usable_table_names()"
   ]
  },
  {
   "cell_type": "code",
   "execution_count": 51,
   "metadata": {},
   "outputs": [],
   "source": [
    "from langchain_groq import ChatGroq\n",
    "llm=ChatGroq(model=\"llama3-70b-8192\",\n",
    "             api_key=\"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\" \n",
    "             )"
   ]
  },
  {
   "cell_type": "code",
   "execution_count": 52,
   "metadata": {},
   "outputs": [
    {
     "data": {
      "text/plain": [
       "AIMessage(content=\"Hello! I'm just a language model, so I don't have emotions or feelings like humans do, but I'm functioning properly and ready to assist you with any questions or tasks you may have! How can I help you today?\", additional_kwargs={}, response_metadata={'token_usage': {'completion_tokens': 48, 'prompt_tokens': 15, 'total_tokens': 63, 'completion_time': 0.137142857, 'prompt_time': 0.000182908, 'queue_time': 0.24709219999999998, 'total_time': 0.137325765}, 'model_name': 'llama3-70b-8192', 'system_fingerprint': 'fp_dd4ae1c591', 'finish_reason': 'stop', 'logprobs': None}, id='run-84178f14-941d-47fe-a740-8d0f234e59b4-0', usage_metadata={'input_tokens': 15, 'output_tokens': 48, 'total_tokens': 63})"
      ]
     },
     "execution_count": 52,
     "metadata": {},
     "output_type": "execute_result"
    }
   ],
   "source": [
    "llm.invoke(\"hello how are you?\")"
   ]
  },
  {
   "cell_type": "code",
   "execution_count": 53,
   "metadata": {},
   "outputs": [],
   "source": [
    "from langchain_community.agent_toolkits import SQLDatabaseToolkit"
   ]
  },
  {
   "cell_type": "code",
   "execution_count": 54,
   "metadata": {},
   "outputs": [],
   "source": [
    "toolkit=SQLDatabaseToolkit(db=db, llm=llm)"
   ]
  },
  {
   "cell_type": "code",
   "execution_count": 55,
   "metadata": {},
   "outputs": [],
   "source": [
    "tools=toolkit.get_tools()"
   ]
  },
  {
   "cell_type": "code",
   "execution_count": 56,
   "metadata": {},
   "outputs": [
    {
     "data": {
      "text/plain": [
       "[QuerySQLDatabaseTool(description=\"Input to this tool is a detailed and correct SQL query, output is a result from the database. If the query is not correct, an error message will be returned. If an error is returned, rewrite the query, check the query, and try again. If you encounter an issue with Unknown column 'xxxx' in 'field list', use sql_db_schema to query the correct table fields.\", db=<langchain_community.utilities.sql_database.SQLDatabase object at 0x0000013DB348DBD0>),\n",
       " InfoSQLDatabaseTool(description='Input to this tool is a comma-separated list of tables, output is the schema and sample rows for those tables. Be sure that the tables actually exist by calling sql_db_list_tables first! Example Input: table1, table2, table3', db=<langchain_community.utilities.sql_database.SQLDatabase object at 0x0000013DB348DBD0>),\n",
       " ListSQLDatabaseTool(db=<langchain_community.utilities.sql_database.SQLDatabase object at 0x0000013DB348DBD0>),\n",
       " QuerySQLCheckerTool(description='Use this tool to double check if your query is correct before executing it. Always use this tool before executing a query with sql_db_query!', db=<langchain_community.utilities.sql_database.SQLDatabase object at 0x0000013DB348DBD0>, llm=ChatGroq(client=<groq.resources.chat.completions.Completions object at 0x0000013DAE11DE50>, async_client=<groq.resources.chat.completions.AsyncCompletions object at 0x0000013DB38D8050>, model_name='llama3-70b-8192', model_kwargs={}, groq_api_key=SecretStr('**********')), llm_chain=LLMChain(verbose=False, prompt=PromptTemplate(input_variables=['dialect', 'query'], input_types={}, partial_variables={}, template='\\n{query}\\nDouble check the {dialect} query above for common mistakes, including:\\n- Using NOT IN with NULL values\\n- Using UNION when UNION ALL should have been used\\n- Using BETWEEN for exclusive ranges\\n- Data type mismatch in predicates\\n- Properly quoting identifiers\\n- Using the correct number of arguments for functions\\n- Casting to the correct data type\\n- Using the proper columns for joins\\n\\nIf there are any of the above mistakes, rewrite the query. If there are no mistakes, just reproduce the original query.\\n\\nOutput the final SQL query only.\\n\\nSQL Query: '), llm=ChatGroq(client=<groq.resources.chat.completions.Completions object at 0x0000013DAE11DE50>, async_client=<groq.resources.chat.completions.AsyncCompletions object at 0x0000013DB38D8050>, model_name='llama3-70b-8192', model_kwargs={}, groq_api_key=SecretStr('**********')), output_parser=StrOutputParser(), llm_kwargs={}))]"
      ]
     },
     "execution_count": 56,
     "metadata": {},
     "output_type": "execute_result"
    }
   ],
   "source": [
    "tools"
   ]
  },
  {
   "cell_type": "code",
   "execution_count": 57,
   "metadata": {},
   "outputs": [
    {
     "name": "stdout",
     "output_type": "stream",
     "text": [
      "sql_db_query\n",
      "sql_db_schema\n",
      "sql_db_list_tables\n",
      "sql_db_query_checker\n"
     ]
    }
   ],
   "source": [
    "for tool in tools:\n",
    "    print(tool.name)"
   ]
  },
  {
   "cell_type": "code",
   "execution_count": 58,
   "metadata": {},
   "outputs": [],
   "source": [
    "list_tables_tool = next((tool for tool in tools if tool.name == \"sql_db_list_tables\"), None)"
   ]
  },
  {
   "cell_type": "code",
   "execution_count": 59,
   "metadata": {},
   "outputs": [
    {
     "data": {
      "text/plain": [
       "ListSQLDatabaseTool(db=<langchain_community.utilities.sql_database.SQLDatabase object at 0x0000013DB348DBD0>)"
      ]
     },
     "execution_count": 59,
     "metadata": {},
     "output_type": "execute_result"
    }
   ],
   "source": [
    "list_tables_tool"
   ]
  },
  {
   "cell_type": "code",
   "execution_count": 60,
   "metadata": {},
   "outputs": [
    {
     "data": {
      "text/plain": [
       "'autoservices, autoservices_rating, bookmark, carmodeltable, chat, cities, colortable, comments, comunity_userprofile, dislikes, failed_jobs, follow, forgetcode, jobapply, jobs, likes, make, messages, migrations, model_has_permissions, model_has_roles, notifications, parts_and_accessories, partsrating, password_resets, permissions, personal_access_tokens, personalexperience, personalinformation, role_has_permissions, roles, saveautos, servicescategory, transmission, userpost, users, vehicle_version, vehicleengine, vehicleinfo_bodytype, vehiclerating, vehicles, view'"
      ]
     },
     "execution_count": 60,
     "metadata": {},
     "output_type": "execute_result"
    }
   ],
   "source": [
    "list_tables_tool.invoke(\"\")"
   ]
  },
  {
   "cell_type": "code",
   "execution_count": 61,
   "metadata": {},
   "outputs": [],
   "source": [
    "get_schema_tool = next((tool for tool in tools if tool.name == \"sql_db_schema\"), None)"
   ]
  },
  {
   "cell_type": "code",
   "execution_count": 62,
   "metadata": {},
   "outputs": [
    {
     "data": {
      "text/plain": [
       "InfoSQLDatabaseTool(description='Input to this tool is a comma-separated list of tables, output is the schema and sample rows for those tables. Be sure that the tables actually exist by calling sql_db_list_tables first! Example Input: table1, table2, table3', db=<langchain_community.utilities.sql_database.SQLDatabase object at 0x0000013DB348DBD0>)"
      ]
     },
     "execution_count": 62,
     "metadata": {},
     "output_type": "execute_result"
    }
   ],
   "source": [
    "get_schema_tool"
   ]
  },
  {
   "cell_type": "code",
   "execution_count": 63,
   "metadata": {},
   "outputs": [
    {
     "name": "stdout",
     "output_type": "stream",
     "text": [
      "\n",
      "CREATE TABLE vehicles (\n",
      "\tid BIGINT(20) UNSIGNED NOT NULL AUTO_INCREMENT, \n",
      "\tuser_id BIGINT(20) UNSIGNED NOT NULL, \n",
      "\tmake VARCHAR(255) NOT NULL, \n",
      "\tcar_model VARCHAR(255) NOT NULL, \n",
      "\tversion VARCHAR(255) NOT NULL, \n",
      "\tregistration_date VARCHAR(255) NOT NULL, \n",
      "\tcategory VARCHAR(255) NOT NULL, \n",
      "\tbody_type VARCHAR(255) NOT NULL, \n",
      "\tseats VARCHAR(255) NOT NULL, \n",
      "\tdoors VARCHAR(255) NOT NULL, \n",
      "\texterior_color VARCHAR(255) NOT NULL, \n",
      "\tfuel_type VARCHAR(255) NOT NULL, \n",
      "\tengine_type VARCHAR(255) NOT NULL, \n",
      "\ttransmission VARCHAR(255) NOT NULL, \n",
      "\tmileage VARCHAR(255) NOT NULL, \n",
      "\tprice INTEGER(255) NOT NULL, \n",
      "\tdescription TEXT NOT NULL, \n",
      "\tregister_in VARCHAR(255) NOT NULL, \n",
      "\timage TEXT NOT NULL, \n",
      "\tlocation_city VARCHAR(255) NOT NULL, \n",
      "\tlocation_sector VARCHAR(255) NOT NULL, \n",
      "\tlocation_street VARCHAR(255) NOT NULL, \n",
      "\tphone_no VARCHAR(255) NOT NULL, \n",
      "\tsecondary_phone VARCHAR(255), \n",
      "\temail VARCHAR(255), \n",
      "\tavailable_week_day VARCHAR(255), \n",
      "\tavailable_timing VARCHAR(255), \n",
      "\tstatus VARCHAR(255) NOT NULL DEFAULT 'panding', \n",
      "\tmessage TEXT, \n",
      "\tcreated_at TIMESTAMP NULL, \n",
      "\tupdated_at TIMESTAMP NULL, \n",
      "\tPRIMARY KEY (id)\n",
      ")ENGINE=InnoDB DEFAULT CHARSET=utf8mb4 COLLATE utf8mb4_unicode_ci\n",
      "\n",
      "/*\n",
      "3 rows from vehicles table:\n",
      "id\tuser_id\tmake\tcar_model\tversion\tregistration_date\tcategory\tbody_type\tseats\tdoors\texterior_color\tfuel_type\tengine_type\ttransmission\tmileage\tprice\tdescription\tregister_in\timage\tlocation_city\tlocation_sector\tlocation_street\tphone_no\tsecondary_phone\temail\tavailable_week_day\tavailable_timing\tstatus\tmessage\tcreated_at\tupdated_at\n",
      "1\t5\tAudi\tCivic\t1.6L Hybrid\t1/1/2014\tused\tSedan\t4\t4\tWhite\tPetrol\t1200cc\tAutomatic\t1200\t14000\tIntroducing the Audi A3 SALOON 35 TFSI Sport, the perfect combination of style and performance. This\tnew city\t173693533523.jpg,173693533542.jpg,173693533535.jpg,173693533560.jpg,17369353356.jpg,173693533538.jpg\tCR4G+86F, Stockport, UK\t19:01\tstreet 2\t(0161) 937 5971\t(0161) 937 5971\tjemycar@gmail.com\tTuesday, Wednesday\t16:01\tpanding\tNone\t2025-01-15 20:02:15\t2025-01-15 20:02:15\n",
      "2\t5\tToyota\tYaris\t2.0L Turbo AWD\t1/1/2020\tused\tSedan\t4\t4\tCrimson\tGas\t1000cc\tManual\t1200\t49500\tA 2020 model Toyota Yaris in excellent condition with only 50,000 km driven. This fuel-efficient pet\tnew city\t173694823026.jpg,173694823017.jpg,173694823034.jpg,17369482308.jpg\tbrand for\t12:36\tstreet 2\t06132960345\t06132960325\tandi_dealer@gmail.com\tMonday, Tuesday\t20:36\tpanding\tNone\t2025-01-15 23:37:10\t2025-01-15 23:43:44\n",
      "3\t3\tToyota\tYaris\t1.6L Hybrid\t9/10/2018\tnew\tSUV\t4\t4\tRed\tPetrol\t1000cc\tAutomatic\t16\t40100\tA 2020 Toyota Yaris in excellent condition with only 50,000 km driven. This fuel-efficient petrol ca\tnew city\t17369485934.jpg,173694859334.jpg,173694859332.jpg,1736948593100.jpg\tA6181, Bradford, UK\t18:00\tstreet 2\t06132960345\t06132960345\tjohnsmith190@gmail.com\tMonday, Tuesday, Wednesday, Thursday, Friday\t09:00\tpanding\tNone\t2025-01-15 23:43:13\t2025-01-15 23:43:13\n",
      "*/\n"
     ]
    }
   ],
   "source": [
    "print(get_schema_tool.invoke(\"vehicles\"))"
   ]
  },
  {
   "cell_type": "code",
   "execution_count": 64,
   "metadata": {},
   "outputs": [],
   "source": [
    "llm_to_get_schema=llm.bind_tools([get_schema_tool])"
   ]
  },
  {
   "cell_type": "code",
   "execution_count": 65,
   "metadata": {},
   "outputs": [],
   "source": [
    "from langchain_core.tools import tool\n",
    "@tool\n",
    "def query_to_database(query:str)->str:\n",
    "    \"\"\"\n",
    "    Execute a SQL query against the database and return the result.\n",
    "    If the query is invalid or returns no result, an error message will be returned.\n",
    "    In case of an error, the user is advised to rewrite the query and try again.\n",
    "    \"\"\"\n",
    "    result=db.run_no_throw(query)\n",
    "    if not result:\n",
    "        return \"Error: Query failed. Please rewrite your query and try again.\"\n",
    "    return result"
   ]
  },
  {
   "cell_type": "code",
   "execution_count": 66,
   "metadata": {},
   "outputs": [
    {
     "data": {
      "text/plain": [
       "'[(1, 5, \\'Audi\\', \\'Civic\\', \\'1.6L Hybrid\\', \\'1/1/2014\\', \\'used\\', \\'Sedan\\', \\'4\\', \\'4\\', \\'White\\', \\'Petrol\\', \\'1200cc\\', \\'Automatic\\', \\'1200\\', 14000, \"Introducing the Audi A3 SALOON 35 TFSI Sport, the perfect combination of style and performance. This brilliant black beauty is a sleek, four-door marvel that\\'s sure to turn heads on the road. But looks aren\\'t everything with the A3 SALOON 35 TFSI Sport. On the inside, you\\'ll find routine cloth...\", \\'new city\\', \\'173693533523.jpg,173693533542.jpg,173693533535.jpg,173693533560.jpg,17369353356.jpg,173693533538.jpg\\', \\'CR4G+86F, Stockport, UK\\', \\'19:01\\', \\'street 2\\', \\'(0161) 937 5971\\', \\'(0161) 937 5971\\', \\'jemycar@gmail.com\\', \\'Tuesday, Wednesday\\', \\'16:01\\', \\'panding\\', None, datetime.datetime(2025, 1, 15, 20, 2, 15), datetime.datetime(2025, 1, 15, 20, 2, 15)), (2, 5, \\'Toyota\\', \\'Yaris\\', \\'2.0L Turbo AWD\\', \\'1/1/2020\\', \\'used\\', \\'Sedan\\', \\'4\\', \\'4\\', \\'Crimson\\', \\'Gas\\', \\'1000cc\\', \\'Manual\\', \\'1200\\', 49500, \\'A 2020 model Toyota Yaris in excellent condition with only 50,000 km driven. This fuel-efficient petrol car features a smooth automatic transmission and a modern touchscreen infotainment system, offering both comfort and convenience. The Yaris is known for its sleek design, spacious interior,...\\', \\'new city\\', \\'173694823026.jpg,173694823017.jpg,173694823034.jpg,17369482308.jpg\\', \\'brand for\\', \\'12:36\\', \\'street 2\\', \\'06132960345\\', \\'06132960325\\', \\'andi_dealer@gmail.com\\', \\'Monday, Tuesday\\', \\'20:36\\', \\'panding\\', None, datetime.datetime(2025, 1, 15, 23, 37, 10), datetime.datetime(2025, 1, 15, 23, 43, 44)), (3, 3, \\'Toyota\\', \\'Yaris\\', \\'1.6L Hybrid\\', \\'9/10/2018\\', \\'new\\', \\'SUV\\', \\'4\\', \\'4\\', \\'Red\\', \\'Petrol\\', \\'1000cc\\', \\'Automatic\\', \\'16\\', 40100, \\'A 2020 Toyota Yaris in excellent condition with only 50,000 km driven. This fuel-efficient petrol car features a smooth automatic transmission and a modern touchscreen infotainment system, offering both comfort and convenience. The Yaris is known for its sleek design, spacious interior, and...\\', \\'new city\\', \\'17369485934.jpg,173694859334.jpg,173694859332.jpg,1736948593100.jpg\\', \\'A6181, Bradford, UK\\', \\'18:00\\', \\'street 2\\', \\'06132960345\\', \\'06132960345\\', \\'johnsmith190@gmail.com\\', \\'Monday, Tuesday, Wednesday, Thursday, Friday\\', \\'09:00\\', \\'panding\\', None, datetime.datetime(2025, 1, 15, 23, 43, 13), datetime.datetime(2025, 1, 15, 23, 43, 13)), (4, 3, \\'Austin\\', \\'YRV\\', \\'2.0L Turbo AWD\\', \\'26/3/2023\\', \\'new\\', \\'Sedan\\', \\'4\\', \\'4\\', \\'Blue\\', \\'Petrol\\', \\'1500cc\\', \\'Automatic\\', \\'10\\', 75000, \\'A 2023 model Austin Z Nissan in excellent condition. This stylish and powerful car runs on a fuel-efficient petrol engine paired with a smooth automatic transmission. It comes loaded with premium features, including a sleek sunroof and durable alloy wheels, adding both luxury and performance to...\\', \\'new city\\', \\'17369495846.jpg,173694958445.jpg,173694958448.png,173694958471.jpg\\', \\'Northumberland Ave, London, UK\\', \\'19:00\\', \\'street 2\\', \\'06197462016\\', \\'06125406351\\', \\'johnsmith190@gmail.com\\', \\'Monday, Tuesday, Wednesday, Thursday, Friday, Saturday, Sunday\\', \\'08:00\\', \\'panding\\', None, datetime.datetime(2025, 1, 15, 23, 59, 44), datetime.datetime(2025, 1, 15, 23, 59, 44)), (5, 3, \\'Honda\\', \\'Civic\\', \\'1.6L Hybrid\\', \\'21/11/2015\\', \\'new\\', \\'Sedan\\', \\'4\\', \\'4\\', \\'Red\\', \\'Diesel\\', \\'1200cc\\', \\'Manual\\', \\'13\\', 30450, \\'A Honda Civic 2015 model car in excellent condition. This diesel-powered car features a reliable manual transmission and comes equipped with a modern touchscreen infotainment system and a stylish sunroof for an enhanced driving experience. Known for its durability, comfort, and efficiency, this...\\', \\'new city\\', \\'173695332364.jpg,173695332312.jpg,173695332347.jpg,173695332314.jpg\\', \\'A281, Horsham, UK\\', \\'20:00\\', \\'street 2\\', \\'06137465920\\', \\'06125467893\\', \\'eddiejosh231@gmail.com\\', \\'Monday, Tuesday, Wednesday, Thursday, Friday, Saturday\\', \\'08:00\\', \\'panding\\', None, datetime.datetime(2025, 1, 16, 1, 2, 3), datetime.datetime(2025, 1, 16, 1, 10, 14)), (6, 3, \\'Daihatsu\\', \\'Mira\\', \\'1.6L Hybrid\\', \\'15/3/2018\\', \\'new\\', \\'SUV\\', \\'4\\', \\'4\\', \\'White\\', \\'Petrol\\', \\'1000cc\\', \\'Automatic\\', \\'18\\', 20000, \\'A 2018 model Daihatsu Mira in excellent condition. This compact and fuel-efficient car runs on a reliable petrol engine with a smooth automatic transmission. It features a modern touchscreen infotainment system and stylish alloy wheels, offering both convenience and aesthetic appeal. Perfect for...\\', \\'new city\\', \\'173695457117.jpg,173695457172.jpg,17369545711.jpg,173695457194.jpg\\', \\'Landor St, Birmingham, UK\\', \\'20:30\\', \\'street 2\\', \\'06172437893\\', \\'06112749320\\', \\'eddiejosh@gmail.com\\', \\'Monday, Tuesday, Wednesday, Thursday, Friday, Saturday, Sunday\\', \\'09:30\\', \\'panding\\', None, datetime.datetime(2025, 1, 16, 1, 22, 51), datetime.datetime(2025, 1, 16, 1, 24, 4)), (7, 3, \\'Alfa Romeo\\', \\'YRV\\', \\'Limited Edition LX\\', \\'18/2/2017\\', \\'new\\', \\'Hatchback\\', \\'2\\', \\'2\\', \\'White\\', \\'Petrol\\', \\'2000cc\\', \\'Automatic\\', \\'8\\', 47500, \\'A 2017 model Alfa Romeo 4C Limited Edition in excellent condition. This rare and stunning sports car is powered by a high-performance petrol engine paired with a smooth automatic transmission, delivering an exhilarating driving experience. It features a modern touchscreen infotainment system,...\\', \\'new city\\', \\'173695992072.jpg,173695992099.jpg,173695992064.jpg,173695992040.jpg,173695992051.jpg,173695992096.jpg\\', \\'North Rd, Cardiff, UK\\', \\'21:40\\', \\'street 2\\', \\'06134587494\\', \\'06184934672\\', \\'johnsmith190@gmail.com\\', \\'Monday, Tuesday, Wednesday, Thursday\\', \\'22:40\\', \\'panding\\', None, datetime.datetime(2025, 1, 16, 1, 40, 17), datetime.datetime(2025, 1, 16, 2, 52)), (8, 5, \\'Audi\\', \\'Corolla\\', \\'1.6L Hybrid\\', \\'1/9/2023\\', \\'used\\', \\'Hatchback\\', \\'4\\', \\'4\\', \\'Black\\', \\'Petrol\\', \\'1500cc\\', \\'Automatic\\', \\'1400\\', 3000, \"Experience the perfect blend of style, innovation, and performance with this premium Audi vehicle. Known for its iconic design, cutting-edge technology, and powerful engine, Audi delivers a smooth and refined driving experience. Whether you\\'re seeking comfort, speed, or elegance, this car is...\", \\'new city\\', \\'17369587642.jpg,173695876486.jpg,17369587649.jpg,173695876478.jpg,173695876417.jpg,173695876450.jpg\\', \\'East Haven, CT, USA\\', \\'14:29\\', \\'street 2\\', \\'06183767494\\', \\'06183757694\\', \\'andi_dealer@gmail.com\\', \\'Monday, Thursday\\', \\'22:29\\', \\'panding\\', None, datetime.datetime(2025, 1, 16, 2, 32, 44), datetime.datetime(2025, 1, 16, 2, 32, 44)), (9, 5, \\'Honda\\', \\'Civic\\', \\'1.6L Hybrid\\', \\'8/6/2022\\', \\'used\\', \\'Hatchback\\', \\'4\\', \\'4\\', \\'Red\\', \\'Petrol\\', \\'2000cc\\', \\'Automatic\\', \\'1200\\', 4500, \\'Get behind the wheel of the iconic Honda Civic, a perfect blend of performance, style, and reliability. Known for its sleek design and impressive fuel efficiency, the Civic offers a smooth driving experience with a spacious, comfortable interior and advanced safety features. Ideal for daily...\\', \\'new city\\', \\'173695914294.jpg,173695914256.jpg,173695914212.jpg,173695914228.jpg,173695914217.jpg,173695914250.jpg\\', \\'11 W 53rd St, New York, NY 10019, USA\\', \\'16:38\\', \\'street 2\\', \\'06134950346\\', \\'06134950344\\', \\'andi_dealer@gmail.com\\', \\'Monday, Tuesday, Wednesday\\', \\'09:38\\', \\'panding\\', None, datetime.datetime(2025, 1, 16, 2, 39, 2), datetime.datetime(2025, 1, 16, 2, 39, 2)), (10, 5, \\'Suzuki\\', \\'Swift\\', \\'2.0L Turbo AWD\\', \\'15/4/2010\\', \\'used\\', \\'SUV\\', \\'4\\', \\'4\\', \\'Silver\\', \\'Petrol\\', \\'2000cc\\', \\'Manual\\', \\'1200\\', 1995, \\'12 Months MOT. in excellent condition . Warranty available . Discount on extended warranty) . Free delivery within 10 mile radius..  Fully maintained through authorized dealership\\', \\'new city\\', \\'173695970354.jpg,173695970394.jpg,173695970381.jpg,173695970355.jpg,173695970386.jpg,173695970380.jpg\\', \\'have\\', \\'12:48\\', \\'street 2\\', \\'0613296444\\', \\'0613296456\\', \\'andi_dealer@gmail.com\\', \\'Tuesday, Thursday, Friday\\', \\'10:47\\', \\'panding\\', None, datetime.datetime(2025, 1, 16, 2, 48, 23), datetime.datetime(2025, 1, 16, 2, 48, 23)), (11, 5, \\'Ford\\', \\'Kuga\\', \\'1.6L Hybrid\\', \\'11/6/2016\\', \\'used\\', \\'Hatchback\\', \\'4\\', \\'4\\', \\'White\\', \\'Petrol\\', \\'1500cc\\', \\'Automatic\\', \\'1200\\', 567, \\'None Runner Hence Price, Service History Cruise Control Climate Control Roof Rails Alloys Bluetooth,Spares or Repairs\\\\r\\\\n\\\\r\\\\nMany More Cars on Site Vist www.pastureroadcarsales.com Part Exchange Welcome at screen Open 7 Days\\', \\'new city\\', \\'173696004684.jpg,173696004628.jpg,173696004698.jpg,1736960046100.jpg,173696004645.jpg\\', \\'Haven, KS 67543, USA\\', \\'15:53\\', \\'street 2\\', \\'0613296444\\', \\'06183757694\\', \\'andi_dealer@gmail.com\\', \\'Monday, Tuesday, Wednesday\\', \\'09:53\\', \\'panding\\', None, datetime.datetime(2025, 1, 16, 2, 54, 6), datetime.datetime(2025, 1, 16, 3, 14, 43)), (12, 3, \\'Toyota\\', \\'Yaris\\', \\'1.6L Hybrid\\', \\'18/8/2017\\', \\'new\\', \\'Hatchback\\', \\'4\\', \\'4\\', \\'Red\\', \\'Petrol\\', \\'1500cc\\', \\'Automatic\\', \\'11\\', 5250, \\'A 2017 Toyota Yaris in excellent condition. This fuel-efficient petrol car features a smooth automatic transmission, a modern touchscreen infotainment system, and stylish alloy wheels that enhance both its look and performance. Known for its reliability, comfort, and practicality, the Toyota...\\', \\'new city\\', \\'173696123018.jpg,173696123089.jpg,173696123026.jpg,1736961230100.jpg,173696123046.jpg\\', \\'B5390, Blackpool, UK\\', \\'18:00\\', \\'street 2\\', \\'06136458924\\', \\'06154839873\\', \\'eddiejosh@gmail.com\\', \\'Monday, Tuesday, Thursday\\', \\'12:00\\', \\'panding\\', None, datetime.datetime(2025, 1, 16, 3, 13, 50), datetime.datetime(2025, 1, 16, 3, 13, 50)), (14, 5, \\'Audi\\', \\'Vezel\\', \\'1.6L Hybrid\\', \\'10/9/2020\\', \\'used\\', \\'Sedan\\', \\'4\\', \\'4\\', \\'Blue\\', \\'Petrol\\', \\'2000cc\\', \\'Automatic\\', \\'457\\', 987, \\'Hull Audi are delighted to offer this Audi A3 Black Edition finished in Ascari Blue paintwork, complimented beautifully with the Full Leather Heated Sport Bucket Seats.\\\\r\\\\n\\\\r\\\\nAudi Approved Benefits: \\\\r\\\\nThis vehicle has now been prepared under the Audi Approved Plus program, undergoing a rigorous...\\', \\'new city\\', \\'17370020172.jpg,173700201721.jpg,173700201731.jpg,173700201751.jpg,173700201790.jpg,173700201746.jpg\\', \\'pine o\\', \\'21:33\\', \\'street 2\\', \\'06183767494\\', \\'06134950344\\', \\'andi_dealer@gmail.com\\', \\'Tuesday, Wednesday\\', \\'01:33\\', \\'panding\\', None, datetime.datetime(2025, 1, 16, 14, 33, 37), datetime.datetime(2025, 1, 16, 14, 33, 37)), (15, 5, \\'BMW\\', \\'Taft\\', \\'Limited Edition LX\\', \\'10/8/2011\\', \\'used\\', \\'Sedan\\', \\'4\\', \\'4\\', \\'White\\', \\'Petrol\\', \\'1500cc\\', \\'Automatic\\', \\'1569\\', 1499, \\'White, 2 owners, ALL CARS ACCEPTED IN PART EXCHANGE FINANCE AVAILABLE, NATIONWIDE DELIVERY TEST DRIVES SUBJECT TO T&C, £1,499\\\\r\\\\n\\\\r\\\\nALL CARS ACCEPTED IN PART EXCHANGE FINANCE AVAILABLE, NATIONWIDE DELIVERY TEST DRIVES SUBJECT TO T&C\\', \\'new city\\', \\'173700239747.jpg,173700239734.jpg,173700239783.jpg,173700239763.jpg,17370023977.jpg\\', \\'brand\\', \\'21:39\\', \\'street 2\\', \\'06183767494\\', \\'06183757694\\', \\'andi_dealer@gmail.com\\', \\'Monday, Tuesday, Thursday, Friday\\', \\'13:39\\', \\'panding\\', None, datetime.datetime(2025, 1, 16, 14, 39, 57), datetime.datetime(2025, 1, 16, 14, 39, 57)), (16, 3, \\'Ford\\', \\'YRV\\', \\'2.0L Turbo AWD\\', \\'5/10/2012\\', \\'new\\', \\'SUV\\', \\'4\\', \\'4\\', \\'White\\', \\'Diesel\\', \\'2000cc\\', \\'Automatic\\', \\'4\\', 55000, \\'A 2012 Ford in excellent condition. This powerful four-wheeler runs on a reliable diesel engine paired with a smooth automatic transmission, offering both performance and fuel efficiency. It comes equipped with a modern touchscreen infotainment system and stylish alloy wheels, adding comfort and...\\', \\'new city\\', \\'173700256356.jpg,173700256374.jpg,173700256368.jpg,173700256383.jpg,17370025633.jpg\\', \\'A24, Belfast, UK\\', \\'22:00\\', \\'street 2\\', \\'06125374871\\', \\'06135486492\\', \\'johnsmith190@gmail.com\\', \\'Thursday, Tuesday, Friday, Wednesday\\', \\'10:00\\', \\'panding\\', None, datetime.datetime(2025, 1, 16, 14, 42, 43), datetime.datetime(2025, 1, 16, 14, 59, 57)), (17, 5, \\'KIA\\', \\'Yaris\\', \\'2.0L Turbo AWD\\', \\'11/10/2016\\', \\'used\\', \\'SUV\\', \\'4\\', \\'4\\', \\'White\\', \\'Petrol\\', \\'1000cc\\', \\'Manual\\', \\'1200\\', 990, \\'This car has a noisy engine and is sold as spares and repairs, no warranty, trade sale, maybe an easy fix, bargain price, part exchange car to clear, HPI clear, V5 logbook here, 2 keys-------------------NOISY ENGINE------------NOISY ENGINE-----------NOISY ENGINE\\', \\'new city\\', \\'173700266774.jpg,173700266734.jpg,173700266761.jpg,173700266796.jpg,173700266725.jpg\\', \\'edan\\', \\'21:44\\', \\'street 2\\', \\'06183767494\\', \\'06183757694\\', \\'andi_dealer@gmail.com\\', \\'Tuesday, Thursday\\', \\'01:44\\', \\'panding\\', None, datetime.datetime(2025, 1, 16, 14, 44, 27), datetime.datetime(2025, 1, 16, 14, 44, 27)), (18, 3, \\'Suzuki\\', \\'Wagon R\\', \\'1.6L Hybrid\\', \\'13/7/2016\\', \\'new\\', \\'Sedan\\', \\'4\\', \\'4\\', \\'Silver\\', \\'Petrol\\', \\'1000cc\\', \\'Automatic\\', \\'17\\', 1650, \\'A 2016 model Suzuki Wagon R in excellent condition. This fuel-efficient petrol car features a smooth automatic transmission, a modern touchscreen infotainment system, and stylish alloy wheels for a sleek and comfortable driving experience. Known for its spacious interior, reliability, and low...\\', \\'new city\\', \\'173700452420.jpg,17370045248.jpg,173700452425.jpg,173700452471.jpg\\', \\'Buchanan St, Glasgow, UK\\', \\'16:00\\', \\'street 2\\', \\'06136487374\\', \\'06146387462\\', \\'eddiejosh@gmail.com\\', \\'Monday, Wednesday, Friday, Saturday\\', \\'07:00\\', \\'panding\\', None, datetime.datetime(2025, 1, 16, 15, 15, 24), datetime.datetime(2025, 1, 16, 15, 15, 24)), (19, 3, \\'BMW\\', \\'YRV\\', \\'2.0L Turbo AWD\\', \\'5/5/2020\\', \\'new\\', \\'SUV\\', \\'4\\', \\'4\\', \\'Red\\', \\'Petrol\\', \\'2000cc\\', \\'Automatic\\', \\'10\\', 45000, \\'A 2020 model BMW M5 in excellent condition. This high-performance luxury sedan is powered by a powerful petrol engine paired with a smooth automatic transmission, delivering an exhilarating driving experience. It comes fully loaded with premium features, including a modern touchscreen...\\', \\'new city\\', \\'173700543964.jpg,173700543920.jpg,173700543986.jpg,173700543926.webp\\', \\'Dean Path, Edinburgh EH4, UK\\', \\'17:30\\', \\'street 2\\', \\'06135467832\\', \\'06136485984\\', \\'eddiejosh@gmail.com\\', \\'Monday, Tuesday, Wednesday, Friday\\', \\'08:30\\', \\'panding\\', None, datetime.datetime(2025, 1, 16, 15, 30, 39), datetime.datetime(2025, 1, 16, 15, 30, 39))]'"
      ]
     },
     "execution_count": 66,
     "metadata": {},
     "output_type": "execute_result"
    }
   ],
   "source": [
    "query_to_database.invoke(\"SELECT * FROM vehicles;\")"
   ]
  },
  {
   "cell_type": "code",
   "execution_count": 67,
   "metadata": {},
   "outputs": [],
   "source": [
    "llm_with_tools=llm.bind_tools([query_to_database])"
   ]
  },
  {
   "cell_type": "code",
   "execution_count": 69,
   "metadata": {},
   "outputs": [
    {
     "data": {
      "text/plain": [
       "AIMessage(content='', additional_kwargs={'tool_calls': [{'id': 'call_kn74', 'function': {'arguments': '{\"query\":\"SELECT * FROM vehicles;\"}', 'name': 'query_to_database'}, 'type': 'function'}]}, response_metadata={'token_usage': {'completion_tokens': 48, 'prompt_tokens': 947, 'total_tokens': 995, 'completion_time': 0.141115881, 'prompt_time': 0.038717823, 'queue_time': 0.24860690400000002, 'total_time': 0.179833704}, 'model_name': 'llama3-70b-8192', 'system_fingerprint': 'fp_dd4ae1c591', 'finish_reason': 'tool_calls', 'logprobs': None}, id='run-b918f43d-9a2f-4937-9421-9b7421ef9d15-0', tool_calls=[{'name': 'query_to_database', 'args': {'query': 'SELECT * FROM vehicles;'}, 'id': 'call_kn74', 'type': 'tool_call'}], usage_metadata={'input_tokens': 947, 'output_tokens': 48, 'total_tokens': 995})"
      ]
     },
     "execution_count": 69,
     "metadata": {},
     "output_type": "execute_result"
    }
   ],
   "source": [
    "llm_with_tools.invoke(\"SELECT * FROM vehicles;\")"
   ]
  },
  {
   "cell_type": "code",
   "execution_count": 70,
   "metadata": {},
   "outputs": [],
   "source": [
    "class State(TypedDict):\n",
    "    messages: Annotated[list[AnyMessage], add_messages]"
   ]
  },
  {
   "cell_type": "code",
   "execution_count": 71,
   "metadata": {},
   "outputs": [],
   "source": [
    "def handle_tool_error(state:State):\n",
    "    error = state.get(\"error\") \n",
    "    tool_calls = state[\"messages\"][-1].tool_calls\n",
    "    return { \"messages\": [ ToolMessage(content=f\"Error: {repr(error)}\\n please fix your mistakes.\",tool_call_id=tc[\"id\"],) for tc in tool_calls ] }\n",
    "\n",
    "def create_node_from_tool_with_fallback(tools:list)-> RunnableWithFallbacks[Any, dict]:\n",
    "    return ToolNode(tools).with_fallbacks([RunnableLambda(handle_tool_error)], exception_key=\"error\")"
   ]
  },
  {
   "cell_type": "code",
   "execution_count": 72,
   "metadata": {},
   "outputs": [],
   "source": [
    "list_tables=create_node_from_tool_with_fallback([list_tables_tool])\n",
    "get_schema=create_node_from_tool_with_fallback([get_schema_tool])\n",
    "query_database=create_node_from_tool_with_fallback([query_to_database])"
   ]
  },
  {
   "cell_type": "code",
   "execution_count": 73,
   "metadata": {},
   "outputs": [],
   "source": [
    "from langchain_core.prompts import ChatPromptTemplate\n",
    "\n",
    "query_check_system = \"\"\"You are a SQL expert. Carefully review the SQL query for common mistakes, including:\n",
    "\n",
    "Issues with NULL handling (e.g., NOT IN with NULLs)\n",
    "Improper use of UNION instead of UNION ALL\n",
    "Incorrect use of BETWEEN for exclusive ranges\n",
    "Data type mismatches or incorrect casting\n",
    "Quoting identifiers improperly\n",
    "Incorrect number of arguments in functions\n",
    "Errors in JOIN conditions\n",
    "\n",
    "If you find any mistakes, rewrite the query to fix them. If it's correct, reproduce it as is.\"\"\"\n",
    "\n",
    "query_check_prompt = ChatPromptTemplate.from_messages([(\"system\", query_check_system), (\"placeholder\", \"{messages}\")])\n",
    "\n",
    "check_generated_query = query_check_prompt | llm_with_tools"
   ]
  },
  {
   "cell_type": "code",
   "execution_count": 75,
   "metadata": {},
   "outputs": [
    {
     "data": {
      "text/plain": [
       "AIMessage(content='', additional_kwargs={'tool_calls': [{'id': 'call_0w4g', 'function': {'arguments': '{\"query\":\"SELECT * FROM vehicles LIMIT 5;\"}', 'name': 'query_to_database'}, 'type': 'function'}]}, response_metadata={'token_usage': {'completion_tokens': 51, 'prompt_tokens': 1051, 'total_tokens': 1102, 'completion_time': 0.145714286, 'prompt_time': 0.034249676, 'queue_time': 0.256830284, 'total_time': 0.179963962}, 'model_name': 'llama3-70b-8192', 'system_fingerprint': 'fp_dd4ae1c591', 'finish_reason': 'tool_calls', 'logprobs': None}, id='run-0785cbe1-c192-46a8-93ca-1cca1f3930a3-0', tool_calls=[{'name': 'query_to_database', 'args': {'query': 'SELECT * FROM vehicles LIMIT 5;'}, 'id': 'call_0w4g', 'type': 'tool_call'}], usage_metadata={'input_tokens': 1051, 'output_tokens': 51, 'total_tokens': 1102})"
      ]
     },
     "execution_count": 75,
     "metadata": {},
     "output_type": "execute_result"
    }
   ],
   "source": [
    "check_generated_query.invoke({\"messages\": [(\"user\", \"SELECT * FROM vehicles LIMIT 5;\")]})"
   ]
  },
  {
   "cell_type": "code",
   "execution_count": 76,
   "metadata": {},
   "outputs": [
    {
     "data": {
      "text/plain": [
       "AIMessage(content='', additional_kwargs={'tool_calls': [{'id': 'call_1de3', 'function': {'arguments': '{\"query\":\"SELECT * FROM vehicles LIMIT 5\"}', 'name': 'query_to_database'}, 'type': 'function'}]}, response_metadata={'token_usage': {'completion_tokens': 50, 'prompt_tokens': 1052, 'total_tokens': 1102, 'completion_time': 0.142857143, 'prompt_time': 0.034334145, 'queue_time': 0.250210732, 'total_time': 0.177191288}, 'model_name': 'llama3-70b-8192', 'system_fingerprint': 'fp_dd4ae1c591', 'finish_reason': 'tool_calls', 'logprobs': None}, id='run-29288bb7-397c-4015-9244-0586cf688013-0', tool_calls=[{'name': 'query_to_database', 'args': {'query': 'SELECT * FROM vehicles LIMIT 5'}, 'id': 'call_1de3', 'type': 'tool_call'}], usage_metadata={'input_tokens': 1052, 'output_tokens': 50, 'total_tokens': 1102})"
      ]
     },
     "execution_count": 76,
     "metadata": {},
     "output_type": "execute_result"
    }
   ],
   "source": [
    "check_generated_query.invoke({\"messages\": [(\"user\", \"SELECT +++ FROM vehicles LIMITs 5;\")]})"
   ]
  },
  {
   "cell_type": "code",
   "execution_count": 77,
   "metadata": {},
   "outputs": [],
   "source": [
    "class SubmitFinalAnswer(BaseModel):\n",
    "    \"\"\"Submit the final answer to the user based on the query results.\"\"\"\n",
    "    final_answer: str = Field(..., description=\"The final answer to the user\")\n",
    "    \n",
    "llm_with_final_answer=llm.bind_tools([SubmitFinalAnswer])"
   ]
  },
  {
   "cell_type": "code",
   "execution_count": 78,
   "metadata": {},
   "outputs": [],
   "source": [
    "# Add a node for a model to generate a query based on the question and schema\n",
    "query_gen_system_prompt = \"\"\"You are a SQL expert with a strong attention to detail.Given an input question, output a syntactically correct SQLite query to run, then look at the results of the query and return the answer.\n",
    "\n",
    "1. DO NOT call any tool besides SubmitFinalAnswer to submit the final answer.\n",
    "\n",
    "When generating the query:\n",
    "\n",
    "2. Output the SQL query that answers the input question without a tool call.\n",
    "\n",
    "3. Unless the user specifies a specific number of examples they wish to obtain, always limit your query to at most 5 results.\n",
    "\n",
    "4. You can order the results by a relevant column to return the most interesting examples in the database.\n",
    "\n",
    "5. Never query for all the columns from a specific table, only ask for the relevant columns given the question.\n",
    "\n",
    "6. If you get an error while executing a query, rewrite the query and try again.\n",
    "\n",
    "7. If you get an empty result set, you should try to rewrite the query to get a non-empty result set.\n",
    "\n",
    "8. NEVER make stuff up if you don't have enough information to answer the query... just say you don't have enough information.\n",
    "\n",
    "9. If you have enough information to answer the input question, simply invoke the appropriate tool to submit the final answer to the user.\n",
    "\n",
    "10. DO NOT make any DML statements (INSERT, UPDATE, DELETE, DROP etc.) to the database. Do not return any sql query except answer. \"\"\"\n",
    "\n",
    "query_gen_prompt = ChatPromptTemplate.from_messages([(\"system\", query_gen_system_prompt), (\"placeholder\", \"{messages}\")])\n",
    "\n",
    "query_generator = query_gen_prompt | llm_with_final_answer"
   ]
  },
  {
   "cell_type": "code",
   "execution_count": 79,
   "metadata": {},
   "outputs": [
    {
     "data": {
      "text/plain": [
       "AIMessage(content='', additional_kwargs={'tool_calls': [{'id': 'call_v0m9', 'function': {'arguments': '{\"final_answer\":\"Here is the query to fetch data from the vehicles table: SELECT * FROM vehicles LIMIT 5\"}', 'name': 'SubmitFinalAnswer'}, 'type': 'function'}]}, response_metadata={'token_usage': {'completion_tokens': 63, 'prompt_tokens': 1213, 'total_tokens': 1276, 'completion_time': 0.190747406, 'prompt_time': 0.039734524, 'queue_time': 0.24851280200000003, 'total_time': 0.23048193}, 'model_name': 'llama3-70b-8192', 'system_fingerprint': 'fp_dd4ae1c591', 'finish_reason': 'tool_calls', 'logprobs': None}, id='run-91f87e40-c398-4784-ab0d-d47045f549cf-0', tool_calls=[{'name': 'SubmitFinalAnswer', 'args': {'final_answer': 'Here is the query to fetch data from the vehicles table: SELECT * FROM vehicles LIMIT 5'}, 'id': 'call_v0m9', 'type': 'tool_call'}], usage_metadata={'input_tokens': 1213, 'output_tokens': 63, 'total_tokens': 1276})"
      ]
     },
     "execution_count": 79,
     "metadata": {},
     "output_type": "execute_result"
    }
   ],
   "source": [
    "query_generator.invoke({\"messages\": [(\"can you fetch the data from vehicles table?\")]})"
   ]
  },
  {
   "cell_type": "code",
   "execution_count": 80,
   "metadata": {},
   "outputs": [],
   "source": [
    "def first_tool_call(state:State)->dict[str,list[AIMessage]]:\n",
    "    print(f\"state from first_tool_call: {state}\")\n",
    "    return{\"messages\": [AIMessage(content=\"\",tool_calls=[{\"name\":\"sql_db_list_tables\",\"args\":{},\"id\":\"tool_abcd123\"}])]}"
   ]
  },
  {
   "cell_type": "code",
   "execution_count": 81,
   "metadata": {},
   "outputs": [],
   "source": [
    "def check_the_given_query(state:State):\n",
    "    print(f\"state from check the given query: {state}\")\n",
    "    return {\"messages\": [check_generated_query.invoke({\"messages\": [state[\"messages\"][-1]]})]}"
   ]
  },
  {
   "cell_type": "code",
   "execution_count": 82,
   "metadata": {},
   "outputs": [],
   "source": [
    "def generation_query(state:State):\n",
    "    message = query_generator.invoke(state)\n",
    "    print(f\"state from generation_query: {state}\")\n",
    "\n",
    "    # Sometimes, the LLM will hallucinate and call the wrong tool. We need to catch this and return an error message.\n",
    "    tool_messages = []\n",
    "    if message.tool_calls:\n",
    "        for tc in message.tool_calls:\n",
    "            if tc[\"name\"] != \"SubmitFinalAnswer\":\n",
    "                tool_messages.append(\n",
    "                    ToolMessage(\n",
    "                        content=f\"Error: The wrong tool was called: {tc['name']}. Please fix your mistakes. Remember to only call SubmitFinalAnswer to submit the final answer. Generated queries should be outputted WITHOUT a tool call.\",\n",
    "                        tool_call_id=tc[\"id\"],\n",
    "                    )\n",
    "                )\n",
    "    else:\n",
    "        tool_messages = []\n",
    "    return {\"messages\": [message] + tool_messages}"
   ]
  },
  {
   "cell_type": "code",
   "execution_count": 83,
   "metadata": {},
   "outputs": [],
   "source": [
    "def should_continue(state:State):\n",
    "    print(f\"state from should_continue: {state}\")\n",
    "    messages = state[\"messages\"]\n",
    "    last_message = messages[-1]\n",
    "    print(\"last message\")\n",
    "    print(last_message)\n",
    "    if getattr(last_message, \"tool_calls\", None):\n",
    "        print(\"sooo\")\n",
    "        return END\n",
    "    elif last_message.content.startswith(\"Error:\"):\n",
    "        print(\"dooo\")\n",
    "        return \"query_gen\"\n",
    "    else:\n",
    "        print(\"oooo\")\n",
    "        return \"correct_query\""
   ]
  },
  {
   "cell_type": "code",
   "execution_count": 84,
   "metadata": {},
   "outputs": [],
   "source": [
    "def llm_get_schema(state:State):\n",
    "    print(\"state from llm_get_schema\", state)\n",
    "    response = llm_to_get_schema.invoke(state[\"messages\"])\n",
    "    return {\"messages\": [response]}"
   ]
  },
  {
   "cell_type": "code",
   "execution_count": 88,
   "metadata": {},
   "outputs": [
    {
     "data": {
      "text/plain": [
       "<langgraph.graph.state.StateGraph at 0x13db3b887d0>"
      ]
     },
     "execution_count": 88,
     "metadata": {},
     "output_type": "execute_result"
    }
   ],
   "source": [
    "workflow = StateGraph(State)\n",
    "workflow.add_node(\"first_tool_call\",first_tool_call)\n",
    "workflow.add_node(\"list_tables_tool\", list_tables)\n",
    "workflow.add_node(\"get_schema_tool\", get_schema)\n",
    "workflow.add_node(\"model_get_schema\", llm_get_schema)\n",
    "workflow.add_node(\"query_gen\", generation_query)\n",
    "workflow.add_node(\"correct_query\", check_the_given_query)\n",
    "workflow.add_node(\"execute_query\", query_database)"
   ]
  },
  {
   "cell_type": "code",
   "execution_count": 89,
   "metadata": {},
   "outputs": [
    {
     "data": {
      "text/plain": [
       "<langgraph.graph.state.StateGraph at 0x13db3b887d0>"
      ]
     },
     "execution_count": 89,
     "metadata": {},
     "output_type": "execute_result"
    }
   ],
   "source": [
    "workflow.add_edge(START, \"first_tool_call\")\n",
    "workflow.add_edge(\"first_tool_call\", \"list_tables_tool\")\n",
    "workflow.add_edge(\"list_tables_tool\", \"model_get_schema\")\n",
    "workflow.add_edge(\"model_get_schema\", \"get_schema_tool\")\n",
    "workflow.add_edge(\"get_schema_tool\", \"query_gen\")\n",
    "workflow.add_conditional_edges(\"query_gen\",should_continue,\n",
    "                            {END:END,\n",
    "                            \"correct_query\":\"correct_query\"})\n",
    "workflow.add_edge(\"correct_query\", \"execute_query\")\n",
    "workflow.add_edge(\"execute_query\", \"query_gen\")"
   ]
  },
  {
   "cell_type": "code",
   "execution_count": 90,
   "metadata": {},
   "outputs": [],
   "source": [
    "app=workflow.compile()"
   ]
  },
  {
   "cell_type": "code",
   "execution_count": 91,
   "metadata": {},
   "outputs": [
    {
     "data": {
      "image/png": "[encoded data removed]",
      "text/plain": [
       "<IPython.core.display.Image object>"
      ]
     },
     "metadata": {},
     "output_type": "display_data"
    }
   ],
   "source": [
    "from IPython.display import Image, display\n",
    "from langchain_core.runnables.graph import MermaidDrawMethod\n",
    "\n",
    "display(\n",
    "    Image(\n",
    "        app.get_graph().draw_mermaid_png(\n",
    "            draw_method=MermaidDrawMethod.API,\n",
    "        )\n",
    "    )\n",
    ")"
   ]
  },
  {
   "cell_type": "code",
   "execution_count": 105,
   "metadata": {},
   "outputs": [],
   "source": [
    "query={\"messages\": [(\"user\", \"how many red cars are there in the vehicles table ?\")]}"
   ]
  },
  {
   "cell_type": "code",
   "execution_count": 106,
   "metadata": {},
   "outputs": [
    {
     "name": "stdout",
     "output_type": "stream",
     "text": [
      "state from first_tool_call: {'messages': [HumanMessage(content='how many red cars are there in the vehicles table ?', additional_kwargs={}, response_metadata={}, id='ab82192e-ebfc-4f1b-9fde-b31f199135fe')]}\n",
      "state from llm_get_schema {'messages': [HumanMessage(content='how many red cars are there in the vehicles table ?', additional_kwargs={}, response_metadata={}, id='ab82192e-ebfc-4f1b-9fde-b31f199135fe'), AIMessage(content='', additional_kwargs={}, response_metadata={}, id='28a19fdc-6c95-4d89-8ebc-161f876b85fb', tool_calls=[{'name': 'sql_db_list_tables', 'args': {}, 'id': 'tool_abcd123', 'type': 'tool_call'}]), ToolMessage(content='autoservices, autoservices_rating, bookmark, carmodeltable, chat, cities, colortable, comments, comunity_userprofile, dislikes, failed_jobs, follow, forgetcode, jobapply, jobs, likes, make, messages, migrations, model_has_permissions, model_has_roles, notifications, parts_and_accessories, partsrating, password_resets, permissions, personal_access_tokens, personalexperience, personalinformation, role_has_permissions, roles, saveautos, servicescategory, transmission, userpost, users, vehicle_version, vehicleengine, vehicleinfo_bodytype, vehiclerating, vehicles, view', name='sql_db_list_tables', id='14f2233f-0acf-437e-a8b1-c87a618e62ec', tool_call_id='tool_abcd123')]}\n",
      "state from generation_query: {'messages': [HumanMessage(content='how many red cars are there in the vehicles table ?', additional_kwargs={}, response_metadata={}, id='ab82192e-ebfc-4f1b-9fde-b31f199135fe'), AIMessage(content='', additional_kwargs={}, response_metadata={}, id='28a19fdc-6c95-4d89-8ebc-161f876b85fb', tool_calls=[{'name': 'sql_db_list_tables', 'args': {}, 'id': 'tool_abcd123', 'type': 'tool_call'}]), ToolMessage(content='autoservices, autoservices_rating, bookmark, carmodeltable, chat, cities, colortable, comments, comunity_userprofile, dislikes, failed_jobs, follow, forgetcode, jobapply, jobs, likes, make, messages, migrations, model_has_permissions, model_has_roles, notifications, parts_and_accessories, partsrating, password_resets, permissions, personal_access_tokens, personalexperience, personalinformation, role_has_permissions, roles, saveautos, servicescategory, transmission, userpost, users, vehicle_version, vehicleengine, vehicleinfo_bodytype, vehiclerating, vehicles, view', name='sql_db_list_tables', id='14f2233f-0acf-437e-a8b1-c87a618e62ec', tool_call_id='tool_abcd123'), AIMessage(content='', additional_kwargs={'tool_calls': [{'id': 'call_jvv4', 'function': {'arguments': '{\"table_names\":\"vehicles\"}', 'name': 'sql_db_schema'}, 'type': 'function'}]}, response_metadata={'token_usage': {'completion_tokens': 36, 'prompt_tokens': 1175, 'total_tokens': 1211, 'completion_time': 0.14818092, 'prompt_time': 0.038488931, 'queue_time': 0.24901621899999998, 'total_time': 0.186669851}, 'model_name': 'llama3-70b-8192', 'system_fingerprint': 'fp_dd4ae1c591', 'finish_reason': 'tool_calls', 'logprobs': None}, id='run-7739496b-fb71-4285-bfe2-b0b7e8cfc7f9-0', tool_calls=[{'name': 'sql_db_schema', 'args': {'table_names': 'vehicles'}, 'id': 'call_jvv4', 'type': 'tool_call'}], usage_metadata={'input_tokens': 1175, 'output_tokens': 36, 'total_tokens': 1211}), ToolMessage(content=\"\\nCREATE TABLE vehicles (\\n\\tid BIGINT(20) UNSIGNED NOT NULL AUTO_INCREMENT, \\n\\tuser_id BIGINT(20) UNSIGNED NOT NULL, \\n\\tmake VARCHAR(255) NOT NULL, \\n\\tcar_model VARCHAR(255) NOT NULL, \\n\\tversion VARCHAR(255) NOT NULL, \\n\\tregistration_date VARCHAR(255) NOT NULL, \\n\\tcategory VARCHAR(255) NOT NULL, \\n\\tbody_type VARCHAR(255) NOT NULL, \\n\\tseats VARCHAR(255) NOT NULL, \\n\\tdoors VARCHAR(255) NOT NULL, \\n\\texterior_color VARCHAR(255) NOT NULL, \\n\\tfuel_type VARCHAR(255) NOT NULL, \\n\\tengine_type VARCHAR(255) NOT NULL, \\n\\ttransmission VARCHAR(255) NOT NULL, \\n\\tmileage VARCHAR(255) NOT NULL, \\n\\tprice INTEGER(255) NOT NULL, \\n\\tdescription TEXT NOT NULL, \\n\\tregister_in VARCHAR(255) NOT NULL, \\n\\timage TEXT NOT NULL, \\n\\tlocation_city VARCHAR(255) NOT NULL, \\n\\tlocation_sector VARCHAR(255) NOT NULL, \\n\\tlocation_street VARCHAR(255) NOT NULL, \\n\\tphone_no VARCHAR(255) NOT NULL, \\n\\tsecondary_phone VARCHAR(255), \\n\\temail VARCHAR(255), \\n\\tavailable_week_day VARCHAR(255), \\n\\tavailable_timing VARCHAR(255), \\n\\tstatus VARCHAR(255) NOT NULL DEFAULT 'panding', \\n\\tmessage TEXT, \\n\\tcreated_at TIMESTAMP NULL, \\n\\tupdated_at TIMESTAMP NULL, \\n\\tPRIMARY KEY (id)\\n)ENGINE=InnoDB DEFAULT CHARSET=utf8mb4 COLLATE utf8mb4_unicode_ci\\n\\n/*\\n3 rows from vehicles table:\\nid\\tuser_id\\tmake\\tcar_model\\tversion\\tregistration_date\\tcategory\\tbody_type\\tseats\\tdoors\\texterior_color\\tfuel_type\\tengine_type\\ttransmission\\tmileage\\tprice\\tdescription\\tregister_in\\timage\\tlocation_city\\tlocation_sector\\tlocation_street\\tphone_no\\tsecondary_phone\\temail\\tavailable_week_day\\tavailable_timing\\tstatus\\tmessage\\tcreated_at\\tupdated_at\\n1\\t5\\tAudi\\tCivic\\t1.6L Hybrid\\t1/1/2014\\tused\\tSedan\\t4\\t4\\tWhite\\tPetrol\\t1200cc\\tAutomatic\\t1200\\t14000\\tIntroducing the Audi A3 SALOON 35 TFSI Sport, the perfect combination of style and performance. This\\tnew city\\t173693533523.jpg,173693533542.jpg,173693533535.jpg,173693533560.jpg,17369353356.jpg,173693533538.jpg\\tCR4G+86F, Stockport, UK\\t19:01\\tstreet 2\\t(0161) 937 5971\\t(0161) 937 5971\\tjemycar@gmail.com\\tTuesday, Wednesday\\t16:01\\tpanding\\tNone\\t2025-01-15 20:02:15\\t2025-01-15 20:02:15\\n2\\t5\\tToyota\\tYaris\\t2.0L Turbo AWD\\t1/1/2020\\tused\\tSedan\\t4\\t4\\tCrimson\\tGas\\t1000cc\\tManual\\t1200\\t49500\\tA 2020 model Toyota Yaris in excellent condition with only 50,000 km driven. This fuel-efficient pet\\tnew city\\t173694823026.jpg,173694823017.jpg,173694823034.jpg,17369482308.jpg\\tbrand for\\t12:36\\tstreet 2\\t06132960345\\t06132960325\\tandi_dealer@gmail.com\\tMonday, Tuesday\\t20:36\\tpanding\\tNone\\t2025-01-15 23:37:10\\t2025-01-15 23:43:44\\n3\\t3\\tToyota\\tYaris\\t1.6L Hybrid\\t9/10/2018\\tnew\\tSUV\\t4\\t4\\tRed\\tPetrol\\t1000cc\\tAutomatic\\t16\\t40100\\tA 2020 Toyota Yaris in excellent condition with only 50,000 km driven. This fuel-efficient petrol ca\\tnew city\\t17369485934.jpg,173694859334.jpg,173694859332.jpg,1736948593100.jpg\\tA6181, Bradford, UK\\t18:00\\tstreet 2\\t06132960345\\t06132960345\\tjohnsmith190@gmail.com\\tMonday, Tuesday, Wednesday, Thursday, Friday\\t09:00\\tpanding\\tNone\\t2025-01-15 23:43:13\\t2025-01-15 23:43:13\\n*/\", name='sql_db_schema', id='6f5718fa-e23d-4ae1-b2d5-d2a7636bc33b', tool_call_id='call_jvv4')]}\n",
      "state from should_continue: {'messages': [HumanMessage(content='how many red cars are there in the vehicles table ?', additional_kwargs={}, response_metadata={}, id='ab82192e-ebfc-4f1b-9fde-b31f199135fe'), AIMessage(content='', additional_kwargs={}, response_metadata={}, id='28a19fdc-6c95-4d89-8ebc-161f876b85fb', tool_calls=[{'name': 'sql_db_list_tables', 'args': {}, 'id': 'tool_abcd123', 'type': 'tool_call'}]), ToolMessage(content='autoservices, autoservices_rating, bookmark, carmodeltable, chat, cities, colortable, comments, comunity_userprofile, dislikes, failed_jobs, follow, forgetcode, jobapply, jobs, likes, make, messages, migrations, model_has_permissions, model_has_roles, notifications, parts_and_accessories, partsrating, password_resets, permissions, personal_access_tokens, personalexperience, personalinformation, role_has_permissions, roles, saveautos, servicescategory, transmission, userpost, users, vehicle_version, vehicleengine, vehicleinfo_bodytype, vehiclerating, vehicles, view', name='sql_db_list_tables', id='14f2233f-0acf-437e-a8b1-c87a618e62ec', tool_call_id='tool_abcd123'), AIMessage(content='', additional_kwargs={'tool_calls': [{'id': 'call_jvv4', 'function': {'arguments': '{\"table_names\":\"vehicles\"}', 'name': 'sql_db_schema'}, 'type': 'function'}]}, response_metadata={'token_usage': {'completion_tokens': 36, 'prompt_tokens': 1175, 'total_tokens': 1211, 'completion_time': 0.14818092, 'prompt_time': 0.038488931, 'queue_time': 0.24901621899999998, 'total_time': 0.186669851}, 'model_name': 'llama3-70b-8192', 'system_fingerprint': 'fp_dd4ae1c591', 'finish_reason': 'tool_calls', 'logprobs': None}, id='run-7739496b-fb71-4285-bfe2-b0b7e8cfc7f9-0', tool_calls=[{'name': 'sql_db_schema', 'args': {'table_names': 'vehicles'}, 'id': 'call_jvv4', 'type': 'tool_call'}], usage_metadata={'input_tokens': 1175, 'output_tokens': 36, 'total_tokens': 1211}), ToolMessage(content=\"\\nCREATE TABLE vehicles (\\n\\tid BIGINT(20) UNSIGNED NOT NULL AUTO_INCREMENT, \\n\\tuser_id BIGINT(20) UNSIGNED NOT NULL, \\n\\tmake VARCHAR(255) NOT NULL, \\n\\tcar_model VARCHAR(255) NOT NULL, \\n\\tversion VARCHAR(255) NOT NULL, \\n\\tregistration_date VARCHAR(255) NOT NULL, \\n\\tcategory VARCHAR(255) NOT NULL, \\n\\tbody_type VARCHAR(255) NOT NULL, \\n\\tseats VARCHAR(255) NOT NULL, \\n\\tdoors VARCHAR(255) NOT NULL, \\n\\texterior_color VARCHAR(255) NOT NULL, \\n\\tfuel_type VARCHAR(255) NOT NULL, \\n\\tengine_type VARCHAR(255) NOT NULL, \\n\\ttransmission VARCHAR(255) NOT NULL, \\n\\tmileage VARCHAR(255) NOT NULL, \\n\\tprice INTEGER(255) NOT NULL, \\n\\tdescription TEXT NOT NULL, \\n\\tregister_in VARCHAR(255) NOT NULL, \\n\\timage TEXT NOT NULL, \\n\\tlocation_city VARCHAR(255) NOT NULL, \\n\\tlocation_sector VARCHAR(255) NOT NULL, \\n\\tlocation_street VARCHAR(255) NOT NULL, \\n\\tphone_no VARCHAR(255) NOT NULL, \\n\\tsecondary_phone VARCHAR(255), \\n\\temail VARCHAR(255), \\n\\tavailable_week_day VARCHAR(255), \\n\\tavailable_timing VARCHAR(255), \\n\\tstatus VARCHAR(255) NOT NULL DEFAULT 'panding', \\n\\tmessage TEXT, \\n\\tcreated_at TIMESTAMP NULL, \\n\\tupdated_at TIMESTAMP NULL, \\n\\tPRIMARY KEY (id)\\n)ENGINE=InnoDB DEFAULT CHARSET=utf8mb4 COLLATE utf8mb4_unicode_ci\\n\\n/*\\n3 rows from vehicles table:\\nid\\tuser_id\\tmake\\tcar_model\\tversion\\tregistration_date\\tcategory\\tbody_type\\tseats\\tdoors\\texterior_color\\tfuel_type\\tengine_type\\ttransmission\\tmileage\\tprice\\tdescription\\tregister_in\\timage\\tlocation_city\\tlocation_sector\\tlocation_street\\tphone_no\\tsecondary_phone\\temail\\tavailable_week_day\\tavailable_timing\\tstatus\\tmessage\\tcreated_at\\tupdated_at\\n1\\t5\\tAudi\\tCivic\\t1.6L Hybrid\\t1/1/2014\\tused\\tSedan\\t4\\t4\\tWhite\\tPetrol\\t1200cc\\tAutomatic\\t1200\\t14000\\tIntroducing the Audi A3 SALOON 35 TFSI Sport, the perfect combination of style and performance. This\\tnew city\\t173693533523.jpg,173693533542.jpg,173693533535.jpg,173693533560.jpg,17369353356.jpg,173693533538.jpg\\tCR4G+86F, Stockport, UK\\t19:01\\tstreet 2\\t(0161) 937 5971\\t(0161) 937 5971\\tjemycar@gmail.com\\tTuesday, Wednesday\\t16:01\\tpanding\\tNone\\t2025-01-15 20:02:15\\t2025-01-15 20:02:15\\n2\\t5\\tToyota\\tYaris\\t2.0L Turbo AWD\\t1/1/2020\\tused\\tSedan\\t4\\t4\\tCrimson\\tGas\\t1000cc\\tManual\\t1200\\t49500\\tA 2020 model Toyota Yaris in excellent condition with only 50,000 km driven. This fuel-efficient pet\\tnew city\\t173694823026.jpg,173694823017.jpg,173694823034.jpg,17369482308.jpg\\tbrand for\\t12:36\\tstreet 2\\t06132960345\\t06132960325\\tandi_dealer@gmail.com\\tMonday, Tuesday\\t20:36\\tpanding\\tNone\\t2025-01-15 23:37:10\\t2025-01-15 23:43:44\\n3\\t3\\tToyota\\tYaris\\t1.6L Hybrid\\t9/10/2018\\tnew\\tSUV\\t4\\t4\\tRed\\tPetrol\\t1000cc\\tAutomatic\\t16\\t40100\\tA 2020 Toyota Yaris in excellent condition with only 50,000 km driven. This fuel-efficient petrol ca\\tnew city\\t17369485934.jpg,173694859334.jpg,173694859332.jpg,1736948593100.jpg\\tA6181, Bradford, UK\\t18:00\\tstreet 2\\t06132960345\\t06132960345\\tjohnsmith190@gmail.com\\tMonday, Tuesday, Wednesday, Thursday, Friday\\t09:00\\tpanding\\tNone\\t2025-01-15 23:43:13\\t2025-01-15 23:43:13\\n*/\", name='sql_db_schema', id='6f5718fa-e23d-4ae1-b2d5-d2a7636bc33b', tool_call_id='call_jvv4'), AIMessage(content='', additional_kwargs={'tool_calls': [{'id': 'call_qbf8', 'function': {'arguments': '{\"final_answer\":\"There are 3 vehicles in the vehicles table, and 2 of them have the exterior color \\'Red\\'.\"}', 'name': 'SubmitFinalAnswer'}, 'type': 'function'}]}, response_metadata={'token_usage': {'completion_tokens': 57, 'prompt_tokens': 2387, 'total_tokens': 2444, 'completion_time': 0.258419782, 'prompt_time': 0.086058492, 'queue_time': 0.24988034400000003, 'total_time': 0.344478274}, 'model_name': 'llama3-70b-8192', 'system_fingerprint': 'fp_dd4ae1c591', 'finish_reason': 'tool_calls', 'logprobs': None}, id='run-33338fa6-f4c9-4836-8fc8-cc0652675296-0', tool_calls=[{'name': 'SubmitFinalAnswer', 'args': {'final_answer': \"There are 3 vehicles in the vehicles table, and 2 of them have the exterior color 'Red'.\"}, 'id': 'call_qbf8', 'type': 'tool_call'}], usage_metadata={'input_tokens': 2387, 'output_tokens': 57, 'total_tokens': 2444})]}\n",
      "last message\n",
      "content='' additional_kwargs={'tool_calls': [{'id': 'call_qbf8', 'function': {'arguments': '{\"final_answer\":\"There are 3 vehicles in the vehicles table, and 2 of them have the exterior color \\'Red\\'.\"}', 'name': 'SubmitFinalAnswer'}, 'type': 'function'}]} response_metadata={'token_usage': {'completion_tokens': 57, 'prompt_tokens': 2387, 'total_tokens': 2444, 'completion_time': 0.258419782, 'prompt_time': 0.086058492, 'queue_time': 0.24988034400000003, 'total_time': 0.344478274}, 'model_name': 'llama3-70b-8192', 'system_fingerprint': 'fp_dd4ae1c591', 'finish_reason': 'tool_calls', 'logprobs': None} id='run-33338fa6-f4c9-4836-8fc8-cc0652675296-0' tool_calls=[{'name': 'SubmitFinalAnswer', 'args': {'final_answer': \"There are 3 vehicles in the vehicles table, and 2 of them have the exterior color 'Red'.\"}, 'id': 'call_qbf8', 'type': 'tool_call'}] usage_metadata={'input_tokens': 2387, 'output_tokens': 57, 'total_tokens': 2444}\n",
      "sooo\n"
     ]
    }
   ],
   "source": [
    "response=app.invoke(query)"
   ]
  },
  {
   "cell_type": "code",
   "execution_count": 107,
   "metadata": {},
   "outputs": [
    {
     "data": {
      "text/plain": [
       "\"There are 3 vehicles in the vehicles table, and 2 of them have the exterior color 'Red'.\""
      ]
     },
     "execution_count": 107,
     "metadata": {},
     "output_type": "execute_result"
    }
   ],
   "source": [
    "response[\"messages\"][-1].tool_calls[0][\"args\"][\"final_answer\"]"
   ]
  },
  {
   "cell_type": "code",
   "execution_count": 95,
   "metadata": {},
   "outputs": [
    {
     "ename": "TypeError",
     "evalue": "Pregel.stream() missing 1 required positional argument: 'input'",
     "output_type": "error",
     "traceback": [
      "\u001b[31m---------------------------------------------------------------------------\u001b[39m",
      "\u001b[31mTypeError\u001b[39m                                 Traceback (most recent call last)",
      "\u001b[36mCell\u001b[39m\u001b[36m \u001b[39m\u001b[32mIn[95]\u001b[39m\u001b[32m, line 1\u001b[39m\n\u001b[32m----> \u001b[39m\u001b[32m1\u001b[39m \u001b[43mapp\u001b[49m\u001b[43m.\u001b[49m\u001b[43mstream\u001b[49m\u001b[43m(\u001b[49m\u001b[43m)\u001b[49m\n",
      "\u001b[31mTypeError\u001b[39m: Pregel.stream() missing 1 required positional argument: 'input'"
     ]
    }
   ],
   "source": [
    "app.stream()"
   ]
  }
 ],
 "metadata": {
  "kernelspec": {
   "display_name": "Python 3",
   "language": "python",
   "name": "python3"
  },
  "language_info": {
   "codemirror_mode": {
    "name": "ipython",
    "version": 3
   },
   "file_extension": ".py",
   "mimetype": "text/x-python",
   "name": "python",
   "nbconvert_exporter": "python",
   "pygments_lexer": "ipython3",
   "version": "3.13.2"
  }
 },
 "nbformat": 4,
 "nbformat_minor": 2
}
